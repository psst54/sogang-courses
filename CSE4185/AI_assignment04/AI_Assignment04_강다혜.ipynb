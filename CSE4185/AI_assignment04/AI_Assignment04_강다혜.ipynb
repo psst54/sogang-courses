{
  "cells": [
    {
      "cell_type": "code",
      "execution_count": 1,
      "metadata": {
        "colab": {
          "base_uri": "https://localhost:8080/"
        },
        "id": "vfNfHIKA7HyO",
        "outputId": "4616b2de-6409-446b-d5cc-669eff3d28c4"
      },
      "outputs": [
        {
          "output_type": "stream",
          "name": "stdout",
          "text": [
            "Requirement already satisfied: IPython in /usr/local/lib/python3.7/dist-packages (5.5.0)\n",
            "Requirement already satisfied: pexpect in /usr/local/lib/python3.7/dist-packages (from IPython) (4.8.0)\n",
            "Requirement already satisfied: prompt-toolkit<2.0.0,>=1.0.4 in /usr/local/lib/python3.7/dist-packages (from IPython) (1.0.18)\n",
            "Requirement already satisfied: pygments in /usr/local/lib/python3.7/dist-packages (from IPython) (2.6.1)\n",
            "Requirement already satisfied: setuptools>=18.5 in /usr/local/lib/python3.7/dist-packages (from IPython) (57.4.0)\n",
            "Requirement already satisfied: decorator in /usr/local/lib/python3.7/dist-packages (from IPython) (4.4.2)\n",
            "Requirement already satisfied: pickleshare in /usr/local/lib/python3.7/dist-packages (from IPython) (0.7.5)\n",
            "Requirement already satisfied: traitlets>=4.2 in /usr/local/lib/python3.7/dist-packages (from IPython) (5.1.1)\n",
            "Requirement already satisfied: simplegeneric>0.8 in /usr/local/lib/python3.7/dist-packages (from IPython) (0.8.1)\n",
            "Requirement already satisfied: six>=1.9.0 in /usr/local/lib/python3.7/dist-packages (from prompt-toolkit<2.0.0,>=1.0.4->IPython) (1.15.0)\n",
            "Requirement already satisfied: wcwidth in /usr/local/lib/python3.7/dist-packages (from prompt-toolkit<2.0.0,>=1.0.4->IPython) (0.2.5)\n",
            "Requirement already satisfied: ptyprocess>=0.5 in /usr/local/lib/python3.7/dist-packages (from pexpect->IPython) (0.7.0)\n"
          ]
        }
      ],
      "source": [
        "!pip install IPython "
      ]
    },
    {
      "cell_type": "markdown",
      "metadata": {
        "id": "GnIGP3XoPZFa"
      },
      "source": [
        "#### colab에서 실행시 다음 주석문을 풀어 실행시킨다."
      ]
    },
    {
      "cell_type": "code",
      "execution_count": 2,
      "metadata": {
        "id": "XbPDbSM87LbC",
        "colab": {
          "base_uri": "https://localhost:8080/"
        },
        "outputId": "373c4611-90d5-4f00-9d77-62a8e3e3c6b9"
      },
      "outputs": [
        {
          "output_type": "stream",
          "name": "stdout",
          "text": [
            "Mounted at /gdrive\n"
          ]
        }
      ],
      "source": [
        "\n",
        "from google.colab import drive\n",
        "drive.mount('/gdrive',force_remount=True)\n"
      ]
    },
    {
      "cell_type": "code",
      "execution_count": 3,
      "metadata": {
        "id": "HAlPWuWzDNWy"
      },
      "outputs": [],
      "source": [
        "import numpy as np\n",
        "import matplotlib.pyplot as plt\n",
        "import torch\n",
        "from torch.utils.data import Dataset, DataLoader\n",
        "import torch.nn as nn\n",
        "import torch.nn.functional as F\n",
        "from torchvision import transforms,datasets\n",
        "\n",
        "from sklearn.model_selection import train_test_split\n",
        "from copy import deepcopy\n",
        "from IPython.display import Image"
      ]
    },
    {
      "cell_type": "code",
      "execution_count": 4,
      "metadata": {
        "colab": {
          "base_uri": "https://localhost:8080/"
        },
        "id": "NhjG0LjaDQlc",
        "outputId": "387c0362-d817-4584-d2c4-f9adc6741cb7"
      },
      "outputs": [
        {
          "output_type": "stream",
          "name": "stdout",
          "text": [
            "device_check: cuda\n"
          ]
        }
      ],
      "source": [
        "device=torch.device(\"cuda\" if torch.cuda.is_available() else \"cpu\")\n",
        "\n",
        "print('device_check:',device)"
      ]
    },
    {
      "cell_type": "markdown",
      "metadata": {
        "id": "9-KTU3jv4za0"
      },
      "source": [
        "# Load CIFAR 10 Dataset"
      ]
    },
    {
      "cell_type": "code",
      "execution_count": 5,
      "metadata": {
        "colab": {
          "base_uri": "https://localhost:8080/"
        },
        "id": "Zt_T74ZbDVho",
        "outputId": "4408457b-b4a9-4686-f1f5-2345dd33ab16"
      },
      "outputs": [
        {
          "output_type": "stream",
          "name": "stdout",
          "text": [
            "Files already downloaded and verified\n",
            "Files already downloaded and verified\n"
          ]
        }
      ],
      "source": [
        "trainset=datasets.CIFAR10(root = './data', train = True, download = True)\n",
        "testset = datasets.CIFAR10(root = './data', train = False, download = True)\n",
        "\n",
        "X_data, Y_data = trainset.data, np.array(trainset.targets)"
      ]
    },
    {
      "cell_type": "markdown",
      "metadata": {
        "id": "tCBEZ1K3i-Ns"
      },
      "source": [
        "#### sample the dataset"
      ]
    },
    {
      "cell_type": "code",
      "execution_count": 6,
      "metadata": {
        "colab": {
          "base_uri": "https://localhost:8080/"
        },
        "id": "rvgseKYMDXXb",
        "outputId": "9c81f7f3-df8d-43d9-acdf-45d1c4809599"
      },
      "outputs": [
        {
          "output_type": "stream",
          "name": "stdout",
          "text": [
            "----Train data info----\n",
            "(16000, 32, 32, 3)\n",
            "(16000,)\n",
            "----Validation data info----\n",
            "(4000, 32, 32, 3)\n",
            "(4000,)\n",
            "----Test data info----\n",
            "(4000, 32, 32, 3)\n",
            "(4000,)\n"
          ]
        }
      ],
      "source": [
        "shuffle_mask=np.arange(X_data.shape[0])\n",
        "np.random.shuffle(shuffle_mask)\n",
        "\n",
        "X_data= X_data[shuffle_mask]\n",
        "Y_data= Y_data[shuffle_mask]\n",
        "\n",
        "X_train = X_data[:20000]\n",
        "X_test = X_data[20000:24000]\n",
        "Y_train = Y_data[:20000]\n",
        "Y_test = Y_data[20000:24000]\n",
        "\n",
        "\n",
        "X_train, X_valid, Y_train, Y_valid = train_test_split(X_train, Y_train, test_size=0.2)\n",
        "\n",
        "print('----Train data info----')\n",
        "print(X_train.shape)\n",
        "print(Y_train.shape)\n",
        "\n",
        "print('----Validation data info----')\n",
        "print(X_valid.shape)\n",
        "print(Y_valid.shape)\n",
        "\n",
        "print('----Test data info----')\n",
        "print(X_test.shape)\n",
        "print(Y_test.shape)"
      ]
    },
    {
      "cell_type": "markdown",
      "metadata": {
        "id": "3TqPpjf9i-Nt"
      },
      "source": [
        "####  image print"
      ]
    },
    {
      "cell_type": "code",
      "execution_count": 7,
      "metadata": {
        "colab": {
          "base_uri": "https://localhost:8080/",
          "height": 338
        },
        "id": "IQ7EIYDHGCPh",
        "outputId": "5bc9aed3-c6f3-449a-ef1c-ab6a23267ff6"
      },
      "outputs": [
        {
          "output_type": "display_data",
          "data": {
            "image/png": "[encoded data removed]",
            "text/plain": [
              "<Figure size 432x288 with 20 Axes>"
            ]
          },
          "metadata": {}
        }
      ],
      "source": [
        "### cifar10 이미지 출력 ###\n",
        "\n",
        "sample_X = X_train[:20]\n",
        "sample_Y = Y_train[:20]\n",
        "\n",
        "fig = plt.figure()\n",
        "fig.subplots_adjust(left=0, bottom=0, right=1, top=1, wspace=1, hspace=1)\n",
        "for i in range(20):\n",
        "    subplot = fig.add_subplot(4, 5, i+1)\n",
        "    subplot.set_xticks([])\n",
        "    subplot.set_yticks([])\n",
        "    subplot.set_title('class %d'%sample_Y[i])\n",
        "    subplot.imshow(sample_X[i], cmap=plt.cm.gray_r)\n",
        "plt.show()"
      ]
    },
    {
      "cell_type": "code",
      "execution_count": 8,
      "metadata": {
        "id": "wZ1XHH36Ka8d"
      },
      "outputs": [],
      "source": [
        "class Custom_Dataset(Dataset):\n",
        "    def __init__(self, X, y):\n",
        "        self.X=np.transpose(X/255.0,(0,3,1,2))\n",
        "        self.y=y\n",
        "\n",
        "    def __len__(self):\n",
        "        \n",
        "        result=len(self.X)\n",
        "    \n",
        "        return result\n",
        "    \n",
        "    def __getitem__(self, idx):\n",
        "        \n",
        "        result_X=self.X[idx]\n",
        "        result_y=self.y[idx]\n",
        "        return result_X,result_y"
      ]
    },
    {
      "cell_type": "markdown",
      "metadata": {
        "id": "9ugKn24g7HyY"
      },
      "source": [
        "#### [문제 01] Flatten Function(Flatten Layer)\n",
        "\n",
        "Flatten layer는 CNN의 데이터 타입을 Fully Connected Neural Network의 형태로 변경하는 layer이다.\n",
        "flatten 함수를 통해 flatten layer를 구현하시오.\n",
        "(바꾸는 방법은 다양함.) (10점)"
      ]
    },
    {
      "cell_type": "markdown",
      "metadata": {
        "id": "Gz1O6aaZ7HyZ"
      },
      "source": [
        "![nn](img/flatten.png)"
      ]
    },
    {
      "cell_type": "code",
      "execution_count": 9,
      "metadata": {
        "id": "gbbTpQee7HyZ"
      },
      "outputs": [],
      "source": [
        "\n",
        "def flatten(x):\n",
        "    data=x.shape[0]\n",
        " \n",
        "    ###################### Write Your Code Here ###################\n",
        "    flatten_x = torch.flatten(x, 1)\n",
        "    ###############################################################\n",
        "    return flatten_x\n"
      ]
    },
    {
      "cell_type": "markdown",
      "metadata": {
        "id": "DJaslbGb7HyZ"
      },
      "source": [
        "#### [문제 02] Multi Layer Perceptron(MLP)\n",
        "전체 layer의 개수가 5개 이상 10개 이하인  Multi-layer Perceptron(MLP)를 만드시오. MLP model은 test dataset에 대해 40%     이상의 Test accuracy를 가져야 한다.\n",
        "\n",
        "\n",
        "(단 activation function은 self.activation_func을 사용해야 한다.) \n",
        "\n",
        "(** HINT: pytorch의 nn.Sequential을 찾아보고 사용해볼것.) (25점)"
      ]
    },
    {
      "cell_type": "code",
      "execution_count": 10,
      "metadata": {
        "id": "rU04cqIDi-Nw"
      },
      "outputs": [],
      "source": [
        "\n",
        "class MLP(nn.Module):\n",
        "    def __init__(self,input_size,active_func,output_size):\n",
        "        super(MLP,self).__init__()\n",
        "        \n",
        "        self.activation_func=active_func\n",
        "        ######################## Write your Code Here ########################\n",
        "        self.seq = nn.Sequential(\n",
        "                    nn.Linear(input_size, 32, bias=True),\n",
        "                    nn.Linear(32, 64, bias=True),\n",
        "                    nn.Linear(64, 32, bias=True),\n",
        "                    nn.Dropout(0.2),\n",
        "                    nn.Linear(32, 64, bias=True),\n",
        "\n",
        "                    nn.Linear(64, 32, bias=True),\n",
        "                    nn.Linear(32, 64, bias=True),\n",
        "                    nn.Linear(64, 32, bias=True),\n",
        "                    nn.Linear(32, output_size, bias=True))\n",
        "\n",
        "        \n",
        "        #######################################################################\n",
        "        \n",
        "    def forward(self,x):\n",
        "        x = flatten(x)  # flatten layer: 위에서 정의한 flatten 함수를 먼저 작성해야 한다.\n",
        "        x = self.seq(x) # 입력값이 하나인 것을 생각하고 network를 짜야한다.\n",
        "        return x\n",
        "        "
      ]
    },
    {
      "cell_type": "markdown",
      "metadata": {
        "id": "rbUUugzz7Hya"
      },
      "source": [
        "##### [문제 03] Convolutional Neural Network\n",
        "\n",
        "INPUT(32X32X3) --> CONV1(30X30X12) --> CONV2(28X28X12) --> POOL1(14X14X12) --> CONV3(12X12X24) --> CONV4(10X10X24) --> POOL2(5X5X24) --> FC --> ... -->FC(class num)를 따르는 CNN model을 만드시오.\n",
        "FC층은 2개에서 4개 사이의 층을 가지도록 구성한다.단 Test dataset에 대해 50% 이상의 Test accuracy를 가져야 한다. (30점)\n",
        "(activation function은 self.activation_func을 사용할 것.)\n"
      ]
    },
    {
      "cell_type": "code",
      "execution_count": 11,
      "metadata": {
        "id": "XHYS7eJJ7Hya"
      },
      "outputs": [],
      "source": [
        "class CNNModel(nn.Module):\n",
        "    def __init__(self,input_channel,active_func):\n",
        "        super(CNNModel, self).__init__()\n",
        "        \n",
        "        self.activation_func=active_func\n",
        "        ######################## Write your Code Here #########################\n",
        "\n",
        "        self.CONV1 = nn.Conv2d(in_channels=input_channel, out_channels=12, kernel_size=5, stride=1)\n",
        "        self.CONV2 = nn.Conv2d(in_channels=12, out_channels=12, kernel_size=5, stride=1)\n",
        "        self.CONV3 = nn.Conv2d(in_channels=12, out_channels=24, kernel_size=5, stride=1)\n",
        "        self.CONV4 = nn.Conv2d(in_channels=24, out_channels=24, kernel_size=5, stride=1)\n",
        "\n",
        "        self.POOL1 = nn.MaxPool2d( kernel_size=2)\n",
        "        self.POOL2 = nn.MaxPool2d( kernel_size=2)\n",
        "\n",
        "        self.FC = nn.Linear(10 * 12 * 12, 50)\n",
        "        \n",
        "        \n",
        "        #######################################################################\n",
        "\n",
        "\n",
        "    def forward(self, output):\n",
        "        ######################## Write your Code Here #########################\n",
        "        #print(\"연산 전\", output.size())\n",
        "        output = self.CONV1(output)\n",
        "        #print(\"conv1 연산 후\", output.size())\n",
        "        output = self.CONV2(output)\n",
        "        #print(\"conv2 연산 후\", output.size())\n",
        "        output = self.POOL1(output)\n",
        "        #print(\"pool1 연산 후\", output.size())\n",
        "        output = self.CONV3(output)\n",
        "        #print(\"conv3 연산 후\", output.size())\n",
        "        output = self.CONV4(output)\n",
        "        #print(\"conv4 연산 후\", output.size())\n",
        "        output = self.POOL2(output)\n",
        "        #print(\"pool1 연산 후\", output.size())\n",
        "        \n",
        "        \n",
        "        return output\n",
        "        \n",
        "        #######################################################################\n"
      ]
    },
    {
      "cell_type": "code",
      "execution_count": 12,
      "metadata": {
        "id": "il6dLnCzLos3"
      },
      "outputs": [],
      "source": [
        "## train func\n",
        "def train(model, epoches, train_loader, val_loader, optimizer, criteria):\n",
        "    best_score = 0\n",
        "    best_model = None\n",
        "    batch_len = len(train_loader)\n",
        "    val_acc = []\n",
        "    for epoch in range(epoches):\n",
        "        total_loss = 0;train_acc=0.0;correct = 0\n",
        "        for i,data in enumerate(train_loader):\n",
        "            image,label=data\n",
        "            image = torch.tensor(image, device = device)\n",
        "            label = torch.tensor(label, device = device)\n",
        "            model.train() \n",
        "            optimizer.zero_grad() \n",
        "            output=model(image.float())\n",
        "            prediction=output.max(1,keepdim=True)[1]\n",
        "            loss=criteria(output,label.long())\n",
        "            correct += prediction.eq(label.view_as(prediction)).sum().item()\n",
        "            loss.backward() \n",
        "            optimizer.step()\n",
        "            train_accuracy = 100. * correct / len(train_loader.dataset)\n",
        "            \n",
        "            # loss\n",
        "            total_loss+=loss.item()             \n",
        "        \n",
        "            if i % batch_len == batch_len-1:\n",
        "                print('{}th epoch loss:{:.6f} Train Acc:{}'.format(epoch+1,total_loss/batch_len,train_accuracy))\n",
        "\n",
        "                total_loss = 0\n",
        "\n",
        "                val_score = evaluate(model,val_loader)\n",
        "                val_acc.append(val_score)\n",
        "                if val_score>=best_score:\n",
        "                    best_score=val_score \n",
        "                    best_model=deepcopy(model)\n",
        "\n",
        "    return best_model, val_acc\n",
        "\n",
        "## evaluation func\n",
        "def evaluate(model, test_loader):\n",
        "    model.eval()\n",
        "\n",
        "    correct = 0\n",
        "    with torch.no_grad():\n",
        "        for data in test_loader:\n",
        "            image,label=data\n",
        "            image = image.to(device)\n",
        "            label = label.to(device)\n",
        "            output = model(image.float())\n",
        "            prediction = output.max(1, keepdim = True)[1]\n",
        "            correct += prediction.eq(label.view_as(prediction)).sum().item()\n",
        "    \n",
        "    test_accuracy = 100. * correct / len(test_loader.dataset)\n",
        "    \n",
        "    return test_accuracy\n"
      ]
    },
    {
      "cell_type": "code",
      "execution_count": 13,
      "metadata": {
        "id": "4X_tSp3Iy3Jg"
      },
      "outputs": [],
      "source": [
        "def choice_activation(name):\n",
        "    if name==\"sigmod\":\n",
        "        function=nn.Sigmoid()\n",
        "    elif name==\"relu\":\n",
        "        function=nn.ReLU()\n",
        "    elif name==\"tanh\":\n",
        "        function=nn.Tanh()\n",
        "    elif name==\"leakyrelu\":\n",
        "        function=nn.LeakyReLU()\n",
        "    return function"
      ]
    },
    {
      "cell_type": "markdown",
      "metadata": {
        "id": "lJuwI_Cp7Hyc"
      },
      "source": [
        "#### [문제 04] Activation Function\n",
        "\n",
        "위에서 정의한 choice_activation()을 통해 4가지 중 하나의 activation function을 선택해 active_function 변수에 저장하고, \n",
        "해당 activation function을 선택한 이유를 보고서에 서술하시오. (5점)"
      ]
    },
    {
      "cell_type": "code",
      "execution_count": 14,
      "metadata": {
        "colab": {
          "base_uri": "https://localhost:8080/",
          "height": 971
        },
        "id": "XK0Jfy9tUIP3",
        "outputId": "2f34cae5-4e06-4529-f0f5-d397dcdb71fe",
        "scrolled": true
      },
      "outputs": [
        {
          "output_type": "stream",
          "name": "stdout",
          "text": [
            "============== MLP Train Start ================\n"
          ]
        },
        {
          "output_type": "stream",
          "name": "stderr",
          "text": [
            "/usr/local/lib/python3.7/dist-packages/ipykernel_launcher.py:11: UserWarning: To copy construct from a tensor, it is recommended to use sourceTensor.clone().detach() or sourceTensor.clone().detach().requires_grad_(True), rather than torch.tensor(sourceTensor).\n",
            "  # This is added back by InteractiveShellApp.init_path()\n",
            "/usr/local/lib/python3.7/dist-packages/ipykernel_launcher.py:12: UserWarning: To copy construct from a tensor, it is recommended to use sourceTensor.clone().detach() or sourceTensor.clone().detach().requires_grad_(True), rather than torch.tensor(sourceTensor).\n",
            "  if sys.path[0] == '':\n"
          ]
        },
        {
          "output_type": "stream",
          "name": "stdout",
          "text": [
            "1th epoch loss:2.072297 Train Acc:22.9375\n",
            "2th epoch loss:1.933463 Train Acc:30.025\n",
            "3th epoch loss:1.893157 Train Acc:32.31875\n",
            "4th epoch loss:1.876281 Train Acc:32.81875\n",
            "5th epoch loss:1.851191 Train Acc:33.95\n",
            "6th epoch loss:1.842883 Train Acc:34.21875\n",
            "7th epoch loss:1.825613 Train Acc:34.95625\n",
            "8th epoch loss:1.817521 Train Acc:35.175\n",
            "9th epoch loss:1.813756 Train Acc:35.80625\n",
            "10th epoch loss:1.796890 Train Acc:36.55625\n",
            "11th epoch loss:1.796175 Train Acc:36.45625\n",
            "12th epoch loss:1.789738 Train Acc:36.61875\n",
            "13th epoch loss:1.781283 Train Acc:37.39375\n",
            "14th epoch loss:1.779701 Train Acc:37.05\n",
            "15th epoch loss:1.776214 Train Acc:37.59375\n",
            "16th epoch loss:1.767180 Train Acc:38.025\n",
            "17th epoch loss:1.769311 Train Acc:37.54375\n",
            "18th epoch loss:1.759613 Train Acc:38.03125\n",
            "19th epoch loss:1.758729 Train Acc:38.39375\n",
            "20th epoch loss:1.748177 Train Acc:38.7\n",
            "----------- MLP Test Result ----------------\n",
            "MLP Test Accuracy: 36.675\n",
            "============== CNN Train Start ================\n"
          ]
        },
        {
          "output_type": "error",
          "ename": "RuntimeError",
          "evalue": "ignored",
          "traceback": [
            "\u001b[0;31m---------------------------------------------------------------------------\u001b[0m",
            "\u001b[0;31mRuntimeError\u001b[0m                              Traceback (most recent call last)",
            "\u001b[0;32m<ipython-input-14-0bca3944eb74>\u001b[0m in \u001b[0;36m<module>\u001b[0;34m()\u001b[0m\n\u001b[1;32m     47\u001b[0m \u001b[0;31m# train cnn and test cnn\u001b[0m\u001b[0;34m\u001b[0m\u001b[0;34m\u001b[0m\u001b[0;34m\u001b[0m\u001b[0m\n\u001b[1;32m     48\u001b[0m \u001b[0mprint\u001b[0m\u001b[0;34m(\u001b[0m\u001b[0;34m\"============== CNN Train Start ================\"\u001b[0m\u001b[0;34m)\u001b[0m\u001b[0;34m\u001b[0m\u001b[0;34m\u001b[0m\u001b[0m\n\u001b[0;32m---> 49\u001b[0;31m \u001b[0mbest_cnn\u001b[0m\u001b[0;34m,\u001b[0m\u001b[0mcnn_val_acc\u001b[0m\u001b[0;34m=\u001b[0m\u001b[0mtrain\u001b[0m\u001b[0;34m(\u001b[0m\u001b[0mcnn_model\u001b[0m\u001b[0;34m,\u001b[0m\u001b[0mEPOCHS\u001b[0m\u001b[0;34m,\u001b[0m\u001b[0mtrain_loader\u001b[0m\u001b[0;34m,\u001b[0m \u001b[0mval_loader\u001b[0m\u001b[0;34m,\u001b[0m\u001b[0mcnn_optimizer\u001b[0m\u001b[0;34m,\u001b[0m\u001b[0mcriterion\u001b[0m\u001b[0;34m)\u001b[0m\u001b[0;34m\u001b[0m\u001b[0;34m\u001b[0m\u001b[0m\n\u001b[0m\u001b[1;32m     50\u001b[0m \u001b[0mcnn_acc\u001b[0m\u001b[0;34m=\u001b[0m\u001b[0mevaluate\u001b[0m\u001b[0;34m(\u001b[0m\u001b[0mbest_cnn\u001b[0m\u001b[0;34m,\u001b[0m\u001b[0mtest_loader\u001b[0m\u001b[0;34m)\u001b[0m\u001b[0;34m\u001b[0m\u001b[0;34m\u001b[0m\u001b[0m\n\u001b[1;32m     51\u001b[0m \u001b[0mprint\u001b[0m\u001b[0;34m(\u001b[0m\u001b[0;34m'----------- CNN Test Result ----------------'\u001b[0m\u001b[0;34m)\u001b[0m\u001b[0;34m\u001b[0m\u001b[0;34m\u001b[0m\u001b[0m\n",
            "\u001b[0;32m<ipython-input-12-71a209ef5c9b>\u001b[0m in \u001b[0;36mtrain\u001b[0;34m(model, epoches, train_loader, val_loader, optimizer, criteria)\u001b[0m\n\u001b[1;32m     15\u001b[0m             \u001b[0moutput\u001b[0m\u001b[0;34m=\u001b[0m\u001b[0mmodel\u001b[0m\u001b[0;34m(\u001b[0m\u001b[0mimage\u001b[0m\u001b[0;34m.\u001b[0m\u001b[0mfloat\u001b[0m\u001b[0;34m(\u001b[0m\u001b[0;34m)\u001b[0m\u001b[0;34m)\u001b[0m\u001b[0;34m\u001b[0m\u001b[0;34m\u001b[0m\u001b[0m\n\u001b[1;32m     16\u001b[0m             \u001b[0mprediction\u001b[0m\u001b[0;34m=\u001b[0m\u001b[0moutput\u001b[0m\u001b[0;34m.\u001b[0m\u001b[0mmax\u001b[0m\u001b[0;34m(\u001b[0m\u001b[0;36m1\u001b[0m\u001b[0;34m,\u001b[0m\u001b[0mkeepdim\u001b[0m\u001b[0;34m=\u001b[0m\u001b[0;32mTrue\u001b[0m\u001b[0;34m)\u001b[0m\u001b[0;34m[\u001b[0m\u001b[0;36m1\u001b[0m\u001b[0;34m]\u001b[0m\u001b[0;34m\u001b[0m\u001b[0;34m\u001b[0m\u001b[0m\n\u001b[0;32m---> 17\u001b[0;31m             \u001b[0mloss\u001b[0m\u001b[0;34m=\u001b[0m\u001b[0mcriteria\u001b[0m\u001b[0;34m(\u001b[0m\u001b[0moutput\u001b[0m\u001b[0;34m,\u001b[0m\u001b[0mlabel\u001b[0m\u001b[0;34m.\u001b[0m\u001b[0mlong\u001b[0m\u001b[0;34m(\u001b[0m\u001b[0;34m)\u001b[0m\u001b[0;34m)\u001b[0m\u001b[0;34m\u001b[0m\u001b[0;34m\u001b[0m\u001b[0m\n\u001b[0m\u001b[1;32m     18\u001b[0m             \u001b[0mcorrect\u001b[0m \u001b[0;34m+=\u001b[0m \u001b[0mprediction\u001b[0m\u001b[0;34m.\u001b[0m\u001b[0meq\u001b[0m\u001b[0;34m(\u001b[0m\u001b[0mlabel\u001b[0m\u001b[0;34m.\u001b[0m\u001b[0mview_as\u001b[0m\u001b[0;34m(\u001b[0m\u001b[0mprediction\u001b[0m\u001b[0;34m)\u001b[0m\u001b[0;34m)\u001b[0m\u001b[0;34m.\u001b[0m\u001b[0msum\u001b[0m\u001b[0;34m(\u001b[0m\u001b[0;34m)\u001b[0m\u001b[0;34m.\u001b[0m\u001b[0mitem\u001b[0m\u001b[0;34m(\u001b[0m\u001b[0;34m)\u001b[0m\u001b[0;34m\u001b[0m\u001b[0;34m\u001b[0m\u001b[0m\n\u001b[1;32m     19\u001b[0m             \u001b[0mloss\u001b[0m\u001b[0;34m.\u001b[0m\u001b[0mbackward\u001b[0m\u001b[0;34m(\u001b[0m\u001b[0;34m)\u001b[0m\u001b[0;34m\u001b[0m\u001b[0;34m\u001b[0m\u001b[0m\n",
            "\u001b[0;32m/usr/local/lib/python3.7/dist-packages/torch/nn/modules/module.py\u001b[0m in \u001b[0;36m_call_impl\u001b[0;34m(self, *input, **kwargs)\u001b[0m\n\u001b[1;32m   1100\u001b[0m         if not (self._backward_hooks or self._forward_hooks or self._forward_pre_hooks or _global_backward_hooks\n\u001b[1;32m   1101\u001b[0m                 or _global_forward_hooks or _global_forward_pre_hooks):\n\u001b[0;32m-> 1102\u001b[0;31m             \u001b[0;32mreturn\u001b[0m \u001b[0mforward_call\u001b[0m\u001b[0;34m(\u001b[0m\u001b[0;34m*\u001b[0m\u001b[0minput\u001b[0m\u001b[0;34m,\u001b[0m \u001b[0;34m**\u001b[0m\u001b[0mkwargs\u001b[0m\u001b[0;34m)\u001b[0m\u001b[0;34m\u001b[0m\u001b[0;34m\u001b[0m\u001b[0m\n\u001b[0m\u001b[1;32m   1103\u001b[0m         \u001b[0;31m# Do not call functions when jit is used\u001b[0m\u001b[0;34m\u001b[0m\u001b[0;34m\u001b[0m\u001b[0;34m\u001b[0m\u001b[0m\n\u001b[1;32m   1104\u001b[0m         \u001b[0mfull_backward_hooks\u001b[0m\u001b[0;34m,\u001b[0m \u001b[0mnon_full_backward_hooks\u001b[0m \u001b[0;34m=\u001b[0m \u001b[0;34m[\u001b[0m\u001b[0;34m]\u001b[0m\u001b[0;34m,\u001b[0m \u001b[0;34m[\u001b[0m\u001b[0;34m]\u001b[0m\u001b[0;34m\u001b[0m\u001b[0;34m\u001b[0m\u001b[0m\n",
            "\u001b[0;32m/usr/local/lib/python3.7/dist-packages/torch/nn/modules/loss.py\u001b[0m in \u001b[0;36mforward\u001b[0;34m(self, input, target)\u001b[0m\n\u001b[1;32m   1150\u001b[0m         return F.cross_entropy(input, target, weight=self.weight,\n\u001b[1;32m   1151\u001b[0m                                \u001b[0mignore_index\u001b[0m\u001b[0;34m=\u001b[0m\u001b[0mself\u001b[0m\u001b[0;34m.\u001b[0m\u001b[0mignore_index\u001b[0m\u001b[0;34m,\u001b[0m \u001b[0mreduction\u001b[0m\u001b[0;34m=\u001b[0m\u001b[0mself\u001b[0m\u001b[0;34m.\u001b[0m\u001b[0mreduction\u001b[0m\u001b[0;34m,\u001b[0m\u001b[0;34m\u001b[0m\u001b[0;34m\u001b[0m\u001b[0m\n\u001b[0;32m-> 1152\u001b[0;31m                                label_smoothing=self.label_smoothing)\n\u001b[0m\u001b[1;32m   1153\u001b[0m \u001b[0;34m\u001b[0m\u001b[0m\n\u001b[1;32m   1154\u001b[0m \u001b[0;34m\u001b[0m\u001b[0m\n",
            "\u001b[0;32m/usr/local/lib/python3.7/dist-packages/torch/nn/functional.py\u001b[0m in \u001b[0;36mcross_entropy\u001b[0;34m(input, target, weight, size_average, ignore_index, reduce, reduction, label_smoothing)\u001b[0m\n\u001b[1;32m   2844\u001b[0m     \u001b[0;32mif\u001b[0m \u001b[0msize_average\u001b[0m \u001b[0;32mis\u001b[0m \u001b[0;32mnot\u001b[0m \u001b[0;32mNone\u001b[0m \u001b[0;32mor\u001b[0m \u001b[0mreduce\u001b[0m \u001b[0;32mis\u001b[0m \u001b[0;32mnot\u001b[0m \u001b[0;32mNone\u001b[0m\u001b[0;34m:\u001b[0m\u001b[0;34m\u001b[0m\u001b[0;34m\u001b[0m\u001b[0m\n\u001b[1;32m   2845\u001b[0m         \u001b[0mreduction\u001b[0m \u001b[0;34m=\u001b[0m \u001b[0m_Reduction\u001b[0m\u001b[0;34m.\u001b[0m\u001b[0mlegacy_get_string\u001b[0m\u001b[0;34m(\u001b[0m\u001b[0msize_average\u001b[0m\u001b[0;34m,\u001b[0m \u001b[0mreduce\u001b[0m\u001b[0;34m)\u001b[0m\u001b[0;34m\u001b[0m\u001b[0;34m\u001b[0m\u001b[0m\n\u001b[0;32m-> 2846\u001b[0;31m     \u001b[0;32mreturn\u001b[0m \u001b[0mtorch\u001b[0m\u001b[0;34m.\u001b[0m\u001b[0m_C\u001b[0m\u001b[0;34m.\u001b[0m\u001b[0m_nn\u001b[0m\u001b[0;34m.\u001b[0m\u001b[0mcross_entropy_loss\u001b[0m\u001b[0;34m(\u001b[0m\u001b[0minput\u001b[0m\u001b[0;34m,\u001b[0m \u001b[0mtarget\u001b[0m\u001b[0;34m,\u001b[0m \u001b[0mweight\u001b[0m\u001b[0;34m,\u001b[0m \u001b[0m_Reduction\u001b[0m\u001b[0;34m.\u001b[0m\u001b[0mget_enum\u001b[0m\u001b[0;34m(\u001b[0m\u001b[0mreduction\u001b[0m\u001b[0;34m)\u001b[0m\u001b[0;34m,\u001b[0m \u001b[0mignore_index\u001b[0m\u001b[0;34m,\u001b[0m \u001b[0mlabel_smoothing\u001b[0m\u001b[0;34m)\u001b[0m\u001b[0;34m\u001b[0m\u001b[0;34m\u001b[0m\u001b[0m\n\u001b[0m\u001b[1;32m   2847\u001b[0m \u001b[0;34m\u001b[0m\u001b[0m\n\u001b[1;32m   2848\u001b[0m \u001b[0;34m\u001b[0m\u001b[0m\n",
            "\u001b[0;31mRuntimeError\u001b[0m: only batches of spatial targets supported (3D tensors) but got targets of size: : [128]"
          ]
        }
      ],
      "source": [
        "# hyperparameter\n",
        "EPOCHS=20\n",
        "LEARNING_RATE=1e-3\n",
        "\n",
        "## 배치 사이즈는 사양에 맞게  변경이 가능하다.\n",
        "###################################\n",
        "BATCH_SIZE=128\n",
        "####################################\n",
        "\n",
        "train_loader = DataLoader(Custom_Dataset(X_train,Y_train), batch_size = BATCH_SIZE)\n",
        "val_loader = DataLoader(Custom_Dataset(X_valid,Y_valid), batch_size = BATCH_SIZE)\n",
        "test_loader = DataLoader(Custom_Dataset(X_test,Y_test), batch_size = BATCH_SIZE)\n",
        "\n",
        "\n",
        "\n",
        "########## Write Your Code Here #########\n",
        "active_function=choice_activation(\"tanh\")\n",
        "#########################################\n",
        "criterion=nn.CrossEntropyLoss()\n",
        "\n",
        "\n",
        "input_channel=X_train.shape[3]\n",
        "input_size=X_train.shape[1]*X_train.shape[2]*X_train.shape[3]\n",
        "output_size=len(np.unique(Y_train))\n",
        "\n",
        "\n",
        "mlp_model=MLP(input_size,active_function,output_size)\n",
        "mlp_model.to(device)\n",
        "mlp_optimizer=torch.optim.Adam(mlp_model.parameters(),lr=LEARNING_RATE)\n",
        "criterion=nn.CrossEntropyLoss() \n",
        "\n",
        "cnn_model=CNNModel(input_channel,active_function)\n",
        "cnn_model.to(device)\n",
        "\"\"\"\"\"\"\n",
        "cnn_optimizer=torch.optim.Adam(cnn_model.parameters(),lr=LEARNING_RATE)\n",
        "\"\"\"\"\"\"\n",
        "\n",
        "# train mlp and test mlp\n",
        "\n",
        "print(\"============== MLP Train Start ================\")\n",
        "best_mlp,mlp_val_acc=train(mlp_model,EPOCHS,train_loader, val_loader,mlp_optimizer,criterion)\n",
        "mlp_acc=evaluate(best_mlp,test_loader)\n",
        "print('----------- MLP Test Result ----------------')\n",
        "print('MLP Test Accuracy:',mlp_acc)\n",
        "\n",
        "\"\"\"\"\"\"\n",
        "# train cnn and test cnn\n",
        "print(\"============== CNN Train Start ================\")\n",
        "best_cnn,cnn_val_acc=train(cnn_model,EPOCHS,train_loader, val_loader,cnn_optimizer,criterion)\n",
        "cnn_acc=evaluate(best_cnn,test_loader)\n",
        "print('----------- CNN Test Result ----------------')\n",
        "print('CNN Test Accuracy:',cnn_acc)\n",
        "\"\"\"\"\"\"\n",
        "\n",
        "### Graph Shows ####\n",
        "\n",
        "plt.rcParams[\"figure.figsize\"]=(10,6)\n",
        "plt.title('[ Validation Accuarcy ]')\n",
        "\n",
        "plt.plot(np.arange(1,len(mlp_val_acc)+1),mlp_val_acc,label='validation',color='darkblue')\n",
        "\"\"\"\"\"\"\n",
        "plt.plot(np.arange(1,len(cnn_val_acc)+1),cnn_val_acc,label='validation',color='darkred')\n",
        "\"\"\"\"\"\"\n",
        "plt.xlim([0,20])\n",
        "plt.legend(['MLP','CNN'])\n",
        "plt.xlabel('Epoch')\n",
        "plt.ylabel('Accuracy (%)')\n",
        "plt.grid(True)\n",
        "plt.show()\n"
      ]
    },
    {
      "cell_type": "code",
      "execution_count": null,
      "metadata": {
        "id": "jwA59kxvpwmd"
      },
      "outputs": [],
      "source": [
        ""
      ]
    },
    {
      "cell_type": "code",
      "execution_count": null,
      "metadata": {
        "id": "xpDud4D_pwme"
      },
      "outputs": [],
      "source": [
        ""
      ]
    }
  ],
  "metadata": {
    "accelerator": "GPU",
    "colab": {
      "collapsed_sections": [],
      "name": "AI_Assignment04_강다혜.ipynb",
      "provenance": []
    },
    "kernelspec": {
      "display_name": "Python 3",
      "language": "python",
      "name": "python3"
    },
    "language_info": {
      "codemirror_mode": {
        "name": "ipython",
        "version": 3
      },
      "file_extension": ".py",
      "mimetype": "text/x-python",
      "name": "python",
      "nbconvert_exporter": "python",
      "pygments_lexer": "ipython3",
      "version": "3.7.4"
    }
  },
  "nbformat": 4,
  "nbformat_minor": 0
}